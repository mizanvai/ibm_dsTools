{
 "cells": [
  {
   "cell_type": "markdown",
   "id": "b27bcb06-8986-41cb-950e-e6ccbf0758bc",
   "metadata": {},
   "source": [
    "<h2>Exercise 2: Create markdown cell with title of the notebook</h2>"
   ]
  },
  {
   "cell_type": "markdown",
   "id": "95a8e8a7-6922-442e-b92f-e825af3110b9",
   "metadata": {},
   "source": [
    "<h1>Data Science Tools and Ecosystem</h1>"
   ]
  },
  {
   "cell_type": "markdown",
   "id": "46786d55-f2f2-466d-b1da-bae268510520",
   "metadata": {},
   "source": [
    "<h3>Exercise 3 - Create a markdown cell for an introduction</h3>"
   ]
  },
  {
   "cell_type": "markdown",
   "id": "b7f790ae-1da2-43d6-942c-9855f051d399",
   "metadata": {},
   "source": [
    "In this notebook, Data Science Tools and Ecosystem are summarized."
   ]
  },
  {
   "cell_type": "markdown",
   "id": "2bcbc514-8959-40f1-ac6c-da14270344e0",
   "metadata": {},
   "source": [
    "<h3>Objectives:</h3>"
   ]
  },
  {
   "cell_type": "markdown",
   "id": "5c24203f-19dc-43b0-b29c-206b2e6efa96",
   "metadata": {},
   "source": [
    "* List popular languages that Data Scientists use.\n",
    "* List commonly used libraries used by Data Scientists.\n",
    "* Comment on Data Science tools."
   ]
  },
  {
   "cell_type": "markdown",
   "id": "8dd3489c-b9dd-4795-a661-f117a0917808",
   "metadata": {},
   "source": [
    "<h3>Exercise 4 - Create a markdown cell to list data science languages</h3>"
   ]
  },
  {
   "cell_type": "markdown",
   "id": "476469ab-7d77-4c9d-b48f-f3a36d6f332b",
   "metadata": {},
   "source": [
    "<h3>Popular languages for data science in below:</h3>"
   ]
  },
  {
   "cell_type": "markdown",
   "id": "77deee04-5c89-48d0-a257-238790d1bb16",
   "metadata": {},
   "source": [
    "1. Python\n",
    "2. R\n",
    "3. Java\n",
    "4. Julia\n",
    "5. SQL\n",
    "6. C#"
   ]
  },
  {
   "cell_type": "markdown",
   "id": "bde878f7-cb18-4211-9e75-8caba7393854",
   "metadata": {},
   "source": [
    "<h3>Exercise 5 - Create a markdown cell to list data science libraries</h3>"
   ]
  },
  {
   "cell_type": "markdown",
   "id": "e9714de0-d344-4167-aab7-10d66567169a",
   "metadata": {},
   "source": [
    "<h4>Most useful libraries in data science in below:</h4>"
   ]
  },
  {
   "cell_type": "markdown",
   "id": "fc4b2086-f2fb-486f-abd5-fbdd688dbd14",
   "metadata": {},
   "source": [
    "1. Numpy\n",
    "2. SciPy\n",
    "3. Matplotlib\n",
    "4. Tensorflow\n",
    "5. Pandas\n",
    "6. Kerak\n",
    "7. Pythorch\n",
    "8. LightGBM\n",
    "9. BeautifulSoup\n",
    "10. NuPIC\n",
    "11. Caffe2"
   ]
  },
  {
   "cell_type": "markdown",
   "id": "4ce9274b-8c3d-4094-a70b-c89bf941b45a",
   "metadata": {},
   "source": [
    "<h3>Exercise 6 - Create a markdown cell with a table of Data Science tools</h3>"
   ]
  },
  {
   "cell_type": "markdown",
   "id": "d74d97bf-8d1d-4d86-9179-ccc5da2044d9",
   "metadata": {},
   "source": [
    "<h4>Data Science Tools:</h4>"
   ]
  },
  {
   "cell_type": "markdown",
   "id": "d8f51ab6-e820-4ec7-b7d6-a6097dc7ace3",
   "metadata": {},
   "source": [
    "1. SAS\n",
    "2. Apache Spark\n",
    "3. BigML"
   ]
  },
  {
   "cell_type": "markdown",
   "id": "72921980-94a1-4c76-9f46-fdd578180de0",
   "metadata": {},
   "source": [
    "<h3>Exercise 7 - Create a markdown cell introducing arithmetic expression examples</h3>"
   ]
  },
  {
   "cell_type": "markdown",
   "id": "31b2a1b7-cd53-4dd2-9a9a-d7e979bd5fae",
   "metadata": {},
   "source": [
    "<h4>Some arithmetic expressions using Python in bellow </h4>"
   ]
  },
  {
   "cell_type": "code",
   "execution_count": 9,
   "id": "ed23c9e7-bb8b-4a09-85f0-ace3862d9cb2",
   "metadata": {},
   "outputs": [
    {
     "data": {
      "text/plain": [
       "10"
      ]
     },
     "execution_count": 9,
     "metadata": {},
     "output_type": "execute_result"
    }
   ],
   "source": [
    "code = compile(\"3 + 7\", \"<string>\", \"eval\")\n",
    "eval(code)"
   ]
  },
  {
   "cell_type": "code",
   "execution_count": 10,
   "id": "27ae21b3-22c5-4cde-baab-bd84e4ce02b0",
   "metadata": {},
   "outputs": [
    {
     "data": {
      "text/plain": [
       "16"
      ]
     },
     "execution_count": 10,
     "metadata": {},
     "output_type": "execute_result"
    }
   ],
   "source": [
    "code1 = compile(\"(5 + 3) * 2\", \"<string>\", \"eval\")\n",
    "eval(code1)"
   ]
  },
  {
   "cell_type": "code",
   "execution_count": 11,
   "id": "999f787a-1718-466e-a0e7-11543911a949",
   "metadata": {},
   "outputs": [
    {
     "data": {
      "text/plain": [
       "65449.84694978735"
      ]
     },
     "execution_count": 11,
     "metadata": {},
     "output_type": "execute_result"
    }
   ],
   "source": [
    "import math\n",
    "code2 = compile(\"4 / 3 * math.pi * math.pow(25, 3)\", \"<string>\", \"eval\")\n",
    "eval(code2)"
   ]
  },
  {
   "cell_type": "markdown",
   "id": "6839e04a-1031-4ffc-a814-2ffead1758bd",
   "metadata": {},
   "source": [
    "<h3>Exercise 8 - Create a code cell to multiply and add numbers.(2 pts)</h3>"
   ]
  },
  {
   "cell_type": "markdown",
   "id": "545aa1aa-2447-41a7-a873-f0f100696780",
   "metadata": {},
   "source": [
    "<h6>This a simple arithmetic expression to mutiply then add integers</h6>"
   ]
  },
  {
   "cell_type": "code",
   "execution_count": 12,
   "id": "8690eae6-cf1c-4156-b452-0bdb01a7dcc3",
   "metadata": {},
   "outputs": [
    {
     "data": {
      "text/plain": [
       "17"
      ]
     },
     "execution_count": 12,
     "metadata": {},
     "output_type": "execute_result"
    }
   ],
   "source": [
    "(3*4)+5"
   ]
  },
  {
   "cell_type": "markdown",
   "id": "c965b014-a0fc-4ab9-8dce-318286edc2d7",
   "metadata": {},
   "source": [
    "<h3>Exercise 9 - Create a code cell to convert minutes to hours. (2 pts)</h3>"
   ]
  },
  {
   "cell_type": "markdown",
   "id": "2dd2aec0-a412-460d-b3cc-cb5135e0510b",
   "metadata": {},
   "source": [
    "<h6>In this code cell write an expression that converts 200 minutes into hours</h6>"
   ]
  },
  {
   "cell_type": "code",
   "execution_count": 13,
   "id": "95cab582-1aad-4038-994d-385d23891f3a",
   "metadata": {},
   "outputs": [
    {
     "name": "stdout",
     "output_type": "stream",
     "text": [
      "0 days, 3.3333333333333335 hours, 0 mins. \n"
     ]
    }
   ],
   "source": [
    "days = 0\n",
    "hours = 0\n",
    "mins = 0\n",
    "time = 200\n",
    "#days = time / 1440\n",
    "leftover_minutes = time % 1440\n",
    "hours = leftover_minutes / 60\n",
    "print(str(days) + \" days, \" + str(hours) + \" hours, \" + str(mins) +  \" mins. \")"
   ]
  },
  {
   "cell_type": "markdown",
   "id": "56a35a69-aa5b-4755-b930-1e36766bf5f4",
   "metadata": {},
   "source": [
    "<h3>Exercise 10 -Insert a markdown cell to list Objectives.</h3>"
   ]
  },
  {
   "cell_type": "markdown",
   "id": "faf62c1d-0f41-4b75-b870-d2dc07619ab5",
   "metadata": {},
   "source": [
    "<p>Below the introduction cell created in Exercise 3, insert a new markdown cell to list the objectives that this notebook covered (i.e. some of the key takeaways from the course). In this new cell start with an introductory line titled: Objectives: in bold font. Then using an unordered list (bullets) indicate 3 to 5 items covered in this notebook, such as List popular languages for Data Science</p>"
   ]
  },
  {
   "cell_type": "markdown",
   "id": "5e457954-113c-4fe7-8fed-d2a71fe34e5e",
   "metadata": {},
   "source": [
    "<h3>Exercise 11 - Create a markdown cell to indicate the Author's name</h3>"
   ]
  },
  {
   "cell_type": "markdown",
   "id": "4a94a9d1-aa77-4eab-a202-34e268c260a4",
   "metadata": {},
   "source": [
    "<h2>Author:</h2>"
   ]
  },
  {
   "cell_type": "markdown",
   "id": "723f33f3-d35d-49d6-8ff6-1deb92ce4bcd",
   "metadata": {},
   "source": [
    "<H5>Mizanur Rahman</H5>"
   ]
  },
  {
   "cell_type": "code",
   "execution_count": null,
   "id": "a0fa35f8-7872-4cf7-9361-e51c7449648b",
   "metadata": {},
   "outputs": [],
   "source": []
  }
 ],
 "metadata": {
  "kernelspec": {
   "display_name": "Python 3 (ipykernel)",
   "language": "python",
   "name": "python3"
  },
  "language_info": {
   "codemirror_mode": {
    "name": "ipython",
    "version": 3
   },
   "file_extension": ".py",
   "mimetype": "text/x-python",
   "name": "python",
   "nbconvert_exporter": "python",
   "pygments_lexer": "ipython3",
   "version": "3.12.1"
  }
 },
 "nbformat": 4,
 "nbformat_minor": 5
}
